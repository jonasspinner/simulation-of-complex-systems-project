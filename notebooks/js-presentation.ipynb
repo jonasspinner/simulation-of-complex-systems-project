{
 "cells": [
  {
   "cell_type": "code",
   "execution_count": null,
   "metadata": {
    "collapsed": true
   },
   "outputs": [],
   "source": [
    "from pathlib import Path\n",
    "\n",
    "import matplotlib.pyplot as plt\n",
    "import numpy as np\n",
    "from matplotlib.animation import FuncAnimation\n",
    "\n",
    "from simulation.emit_particles import getDistances, getDirectedSpread\n",
    "from simulation.loader import load_environment\n",
    "from simulation.particle_spread import particle_spread\n",
    "from simulation.visibility import getVisibilityMaps\n",
    "from simulation.visualizations import plot_path"
   ]
  },
  {
   "cell_type": "code",
   "execution_count": null,
   "outputs": [],
   "source": [
    "resolution = 3\n",
    "input_map_path = Path(\"../data/chalmers_karresturang_normal.txt\")\n",
    "\n",
    "\n",
    "environment = load_environment(str(input_map_path), resolution)\n",
    "width, height = environment.shape\n",
    "plot_path(environment)"
   ],
   "metadata": {
    "collapsed": false,
    "pycharm": {
     "name": "#%%\n"
    }
   }
  },
  {
   "cell_type": "code",
   "execution_count": null,
   "outputs": [],
   "source": [
    "visibility_map_path = input_map_path.with_suffix(\".visibility.npy\")\n",
    "if visibility_map_path.exists():\n",
    "    visibilities = np.load(visibility_map_path, allow_pickle=True)\n",
    "else:\n",
    "    visibilities = getVisibilityMaps(environment, resolution, screen=False)\n",
    "    np.save(visibility_map_path, visibilities)\n",
    "\n",
    "distances = getDistances(visibilities, environment, resolution)\n",
    "cones = getDirectedSpread(visibilities, environment, resolution)"
   ],
   "metadata": {
    "collapsed": false,
    "pycharm": {
     "name": "#%%\n"
    }
   }
  },
  {
   "cell_type": "code",
   "execution_count": null,
   "outputs": [],
   "source": [
    "density = np.zeros((width, height))\n",
    "\n",
    "def infection_step(particle_density, infected, emission_rate=3):\n",
    "    return particle_spread(resolution=resolution, environment=environment, visibilityMatrix=visibilities,\n",
    "                           particleMatrix=particle_density, distanceMatrix=distances, emissionRate=emission_rate)\\\n",
    "        .emit(infected, None, cones)\n",
    "\n",
    "plot_path(environment)\n",
    "\n",
    "density = infection_step(density, [(50, 40)])\n",
    "plt.imshow(density.T, cmap=\"Reds\")\n",
    "plt.show()\n",
    "\n",
    "plt.plot(density[30:70, 40])\n",
    "plt.show()\n",
    "\n",
    "x = 1.0 - distances / 2\n",
    "x[x <= 0] = 0\n",
    "\n",
    "fig, ax = plt.subplots()\n",
    "ax.axis(\"off\")\n",
    "ax.imshow(x, cmap=\"Reds\")\n",
    "plt.show()\n",
    "\n",
    "plt.plot(x[:, 12])\n",
    "plt.show()\n",
    "\n",
    "plt.imshow(visibilities[100, 4].T, cmap=\"Blues_r\")\n",
    "plt.show()"
   ],
   "metadata": {
    "collapsed": false,
    "pycharm": {
     "name": "#%%\n"
    }
   }
  },
  {
   "cell_type": "code",
   "execution_count": null,
   "outputs": [],
   "source": [],
   "metadata": {
    "collapsed": false,
    "pycharm": {
     "name": "#%%\n"
    }
   }
  },
  {
   "cell_type": "markdown",
   "source": [
    "# Modelling of risk density\n",
    "\n",
    "Our goal is to have a realistic, yet simple enough model of the risk related to the spreading of diseases.\n",
    "\n",
    "So first, let's work out the main factors.\n",
    "\n",
    "---\n",
    "\n",
    "While speaking, sneezing or coughing, we produce tiny aerosol particles which can carry the disease.\n",
    "\n",
    "In this picture you can see the particle behaviour over time and space.\n",
    "\n",
    "The area directly next to the person is the most dangerous.\n",
    "\n",
    "Over time the particles drop to the ground and stop being a risk.\n",
    "\n",
    "---\n",
    "\n",
    "We use a simple function to consider the distance.\n",
    "\n",
    "---\n",
    "\n",
    "In our simulation, a portion of the particles drop the ground each time step.\n",
    "\n",
    "The risk decreases over time.\n",
    "\n",
    "---\n",
    "\n",
    "To also consider walls and shields which stop particles, we use a cone of sight.\n",
    "\n",
    "---\n",
    "\n",
    "An area around a person is too simple as we are normally directed in some way.\n",
    "\n",
    "We use a cone to cover this effect.\n",
    "\n",
    "---"
   ],
   "metadata": {
    "collapsed": false
   }
  },
  {
   "cell_type": "markdown",
   "source": [
    "\n",
    "\n",
    "There are many ways to model the spreading of a disease.\n",
    "\n",
    "-- picture of research papers\n",
    "\n",
    "For example, individual particles can be simulated. (They interact with the airflow and move around. One can even\n",
    "differentiate between different sizes which affect how long they stay in the air.)\n",
    "\n",
    "In order to have a simple model which still captures the main attributes, we assume that distance is the main risk factor.\n",
    "\n",
    "People may breath, cough or touch things in irregular intervals and we use the risk as an simplification of all that.\n",
    "\n",
    "...\n",
    "\n",
    "The most dangerous place is directly next to an infected agent. The more distance, the less risk is associated.\n",
    "\n",
    "We use 2 meters as the maximum distance that a infected agent can affect others.\n",
    "\n",
    "...\n",
    "\n",
    "Spread is not going to happen through a wall. Therefore, we check for walls.\n",
    "\n",
    "During sitting, the agent is most likely speaking forwards or sideways. Here we use cones.\n",
    "\n",
    "...\n",
    "\n",
    "\n",
    "\n",
    "Next up, Mathias is going to talk about the results."
   ],
   "metadata": {
    "collapsed": false,
    "pycharm": {
     "name": "#%% md\n"
    }
   }
  },
  {
   "cell_type": "code",
   "execution_count": null,
   "outputs": [],
   "source": [
    "def plot_agent_walk():\n",
    "    fig, ax = plt.subplots(figsize=(6, 6))\n",
    "    # walk = [(105, y) for y in range(80, 5-1, -1)] + [(x, 5) for x in range(105, 90, -1)]\n",
    "    walk = [(105, y) for y in range(70, 76)] + [(x, 76) for x in range(105, 95 - 1, -1)] + [(95, y) for y in range(76, 70, -1)]\n",
    "    m = ax.imshow(visibilities[walk[0]][1:,1:], cmap=\"Blues_r\")\n",
    "    e = ax.imshow((environment[walk[0][0]-11:walk[0][0]+12, walk[0][1]-11:walk[0][1]+12].T == 0), cmap=\"Reds\", alpha=0.5)\n",
    "\n",
    "    ax.axis(\"off\")\n",
    "\n",
    "    ax.add_patch(plt.Circle((11.5, 11.5), resolution / 4, fc='k', ec='k', fill=True))\n",
    "    # ax.plot([12], [12], \"kx\")\n",
    "\n",
    "    fig.tight_layout()\n",
    "\n",
    "    def update(frame):\n",
    "        pos = walk[frame]\n",
    "        x, y = pos\n",
    "        m.set_data(visibilities[walk[frame]].T[1:,1:])\n",
    "        e.set_data((environment[x-11:x+12, y-11:y+12].T == 0))\n",
    "        return m,\n",
    "\n",
    "    animation = FuncAnimation(fig, update, frames=len(walk))\n",
    "    animation.save(\"walk.mp4\", fps=6, dpi=300)\n",
    "    plt.savefig(\"walk.png\")\n",
    "\n",
    "plot_agent_walk()"
   ],
   "metadata": {
    "collapsed": false,
    "pycharm": {
     "name": "#%%\n"
    }
   }
  },
  {
   "cell_type": "markdown",
   "source": [
    "## Diffusion\n",
    "\n",
    "Build up around an agent, until equilirium is reached.\n",
    "\n",
    "Risk diffuses by multiplying with a"
   ],
   "metadata": {
    "collapsed": false,
    "pycharm": {
     "name": "#%% md\n"
    }
   }
  },
  {
   "cell_type": "code",
   "execution_count": null,
   "outputs": [],
   "source": [
    "def plot_diffusion():\n",
    "    density = np.zeros_like(environment)\n",
    "\n",
    "    densities_at_point = []\n",
    "\n",
    "    pos = (50, 40)\n",
    "\n",
    "    for _ in range(400):\n",
    "        density = infection_step(density, [pos], emission_rate=1.0)\n",
    "\n",
    "    for _ in range(50):\n",
    "        density = infection_step(density, [pos], emission_rate=1.0)\n",
    "        densities_at_point.append(density[pos])\n",
    "\n",
    "    for i in range(300):\n",
    "        density = infection_step(density, [], emission_rate=1.0)\n",
    "        densities_at_point.append(density[pos])\n",
    "\n",
    "    fig, ax = plt.subplots(figsize=(5, 3))\n",
    "    ax.set_xlim((-50 * 2/3, 300* 2/3)); ax.set_ylim((0, 80))\n",
    "    ax.set_yticks([])\n",
    "    ax.set_xlabel(\"time [s]\"); ax.set_ylabel(\"risk density\")\n",
    "    ax.plot(np.arange(-50, 300) * 2 / 3, np.array(densities_at_point), \"k-\")\n",
    "    ax.axvline(0, ls=\"--\", c=\"grey\")\n",
    "    fig.tight_layout()\n",
    "    plt.savefig(\"risk-diffusion.png\", dpi=300)\n",
    "    plt.show()\n",
    "\n",
    "plot_diffusion()"
   ],
   "metadata": {
    "collapsed": false,
    "pycharm": {
     "name": "#%%\n"
    }
   }
  },
  {
   "cell_type": "code",
   "execution_count": null,
   "outputs": [],
   "source": [
    "def risk_distance():\n",
    "    fig, ax = plt.subplots(figsize=(7, 3))\n",
    "    ax.set_xlim((-0.5, 5.5)) # ax.set_ylim((0, 1.5))\n",
    "    ax.set_yticks([])\n",
    "    ax.set_xlabel(\"distance from infected person [m]\"); ax.set_ylabel(\"risk density\")\n",
    "    ax.set_aspect(\"equal\")\n",
    "    x = np.linspace(0, 5.5)\n",
    "    risk = 1 - x/4\n",
    "    risk[risk <= 0] = 0\n",
    "    ax.plot(x, 2 * risk, \"k-\")\n",
    "    fig.tight_layout()\n",
    "    plt.savefig(\"risk-distance.png\", dpi=300)\n",
    "    plt.show()\n",
    "\n",
    "risk_distance()"
   ],
   "metadata": {
    "collapsed": false,
    "pycharm": {
     "name": "#%%\n"
    }
   }
  },
  {
   "cell_type": "code",
   "execution_count": null,
   "outputs": [],
   "source": [
    "v = np.zeros(10)\n",
    "v[5] = 1.0\n",
    "\n",
    "values = []\n",
    "for _ in range(20):\n",
    "    v_next = np.zeros_like(v)\n",
    "    v_next += 0.5 * v\n",
    "    v_next[1:] += 0.25 * v[:-1]\n",
    "    v_next[:-1] += 0.25 * v[1:]\n",
    "    v = v_next\n",
    "    values.append(v[5])\n",
    "\n",
    "plt.plot(values)\n",
    "plt.show()\n"
   ],
   "metadata": {
    "collapsed": false,
    "pycharm": {
     "name": "#%%\n"
    }
   }
  },
  {
   "cell_type": "code",
   "execution_count": null,
   "outputs": [],
   "source": [
    "def plot_cone():\n",
    "    fig, ax = plt.subplots(figsize=(6, 6))\n",
    "    ax.axis(\"off\")\n",
    "    ax.imshow(cones[0,1][:,1:-1], cmap=\"Reds\")\n",
    "    fig.tight_layout()\n",
    "    plt.savefig(\"cone.png\", dpi=300)\n",
    "    plt.show()\n",
    "\n",
    "plot_cone()"
   ],
   "metadata": {
    "collapsed": false,
    "pycharm": {
     "name": "#%%\n"
    }
   }
  }
 ],
 "metadata": {
  "kernelspec": {
   "display_name": "Python 3",
   "language": "python",
   "name": "python3"
  },
  "language_info": {
   "codemirror_mode": {
    "name": "ipython",
    "version": 2
   },
   "file_extension": ".py",
   "mimetype": "text/x-python",
   "name": "python",
   "nbconvert_exporter": "python",
   "pygments_lexer": "ipython2",
   "version": "2.7.6"
  }
 },
 "nbformat": 4,
 "nbformat_minor": 0
}