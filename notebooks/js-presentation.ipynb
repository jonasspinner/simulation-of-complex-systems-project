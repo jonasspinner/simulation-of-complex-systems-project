{
 "cells": [
  {
   "cell_type": "code",
   "execution_count": null,
   "metadata": {
    "collapsed": true
   },
   "outputs": [],
   "source": [
    "from pathlib import Path\n",
    "\n",
    "import matplotlib.pyplot as plt\n",
    "import numpy as np\n",
    "\n",
    "from matplotlib.animation import FuncAnimation\n",
    "\n",
    "from simulation.emit_particles import getDistances, getDirectedSpread\n",
    "from simulation.loader import load_environment\n",
    "from simulation.particle_spread import particle_spread\n",
    "from simulation.visibility import getVisibilityMaps\n",
    "from simulation.visualizations import plot_path"
   ]
  },
  {
   "cell_type": "code",
   "execution_count": null,
   "outputs": [],
   "source": [
    "resolution = 3\n",
    "input_map_path = Path(\"../data/chalmers_karresturang_normal.txt\")\n",
    "\n",
    "\n",
    "environment = load_environment(str(input_map_path), resolution)\n",
    "width, height = environment.shape\n",
    "plot_path(environment)"
   ],
   "metadata": {
    "collapsed": false,
    "pycharm": {
     "name": "#%%\n"
    }
   }
  },
  {
   "cell_type": "code",
   "execution_count": null,
   "outputs": [],
   "source": [
    "visibility_map_path = input_map_path.with_suffix(\".visibility.npy\")\n",
    "if visibility_map_path.exists():\n",
    "    visibilities = np.load(visibility_map_path, allow_pickle=True)\n",
    "else:\n",
    "    visibilities = getVisibilityMaps(environment, resolution, screen=False)\n",
    "    np.save(visibility_map_path, visibilities)\n",
    "\n",
    "distances = getDistances(visibilities, environment, resolution)\n",
    "cones = getDirectedSpread(visibilities, environment, resolution)"
   ],
   "metadata": {
    "collapsed": false,
    "pycharm": {
     "name": "#%%\n"
    }
   }
  },
  {
   "cell_type": "code",
   "execution_count": null,
   "outputs": [],
   "source": [
    "density = np.zeros((width, height))\n",
    "\n",
    "def infection_step(particle_density, infected):\n",
    "    return particle_spread(resolution=resolution,\n",
    "                                       environment=environment,\n",
    "                                       visibilityMatrix=visibilities,\n",
    "                                       particleMatrix=particle_density,\n",
    "                                       distanceMatrix=distances,\n",
    "                                       emissionRate=3).emit(infected, None, cones)\n",
    "\n",
    "plot_path(environment)\n",
    "\n",
    "density = infection_step(density, [(50, 40)])\n",
    "plt.imshow(density.T)\n",
    "plt.show()\n",
    "\n",
    "plt.plot(density[:, 40])\n",
    "plt.show()\n",
    "\n",
    "x = 1.0 - distances / 2\n",
    "x[x <= 0] = 0\n",
    "\n",
    "plt.imshow(x, cmap=\"Reds\")\n",
    "plt.show()\n",
    "\n",
    "plt.plot(x[:, 12])\n",
    "plt.show()\n",
    "\n",
    "plt.imshow(visibilities[100, 4].T)\n",
    "plt.show()"
   ],
   "metadata": {
    "collapsed": false,
    "pycharm": {
     "name": "#%%\n"
    }
   }
  },
  {
   "cell_type": "code",
   "execution_count": null,
   "outputs": [],
   "source": [],
   "metadata": {
    "collapsed": false,
    "pycharm": {
     "name": "#%%\n"
    }
   }
  },
  {
   "cell_type": "markdown",
   "source": [
    "# Modelling of risk density\n",
    "\n",
    "There are many ways to model the spreading of a disease.\n",
    "\n",
    "-- picture of research papers\n",
    "\n",
    "For example, individual particles can be simulated. (They interact with the airflow and move around. One can even\n",
    "differentiate between different sizes which affect how long they stay in the air.)\n",
    "\n",
    "In order to have a simple model which still captures the main attributes, we assume that distance is the main risk factor.\n",
    "\n",
    "People may breath, cough or touch things in irregular intervals and we use the risk as an simplification of all that.\n",
    "\n",
    "...\n",
    "\n",
    "The most dangerous place is directly next to an infected agent. The more distance, the less risk is associated.\n",
    "\n",
    "We use 2 meters as the maximum distance that a infected agent can affect others.\n",
    "\n",
    "...\n",
    "\n",
    "Spread is not going to happen through a wall. Therefore, we check for walls.\n",
    "\n",
    "During sitting, the agent is most likely speaking forwards or sideways. Here we use cones.\n",
    "\n",
    "...\n",
    "\n",
    "\n",
    "\n",
    "Next up, Mathias is going to talk about the results."
   ],
   "metadata": {
    "collapsed": false
   }
  },
  {
   "cell_type": "code",
   "execution_count": null,
   "outputs": [],
   "source": [
    "def plot_agent_walk():\n",
    "    fig, ax = plt.subplots()\n",
    "    walk = [(105, y) for y in range(80, 5-1, -1)] + [(x, 5) for x in range(105, 90, -1)]\n",
    "    m = ax.imshow(visibilities[walk[0]][1:,1:], cmap=\"Blues_r\")\n",
    "\n",
    "    ax.axis(\"off\")\n",
    "\n",
    "    ax.add_patch(plt.Circle((12, 12), resolution / 4, fc='k', ec='g', fill=True))\n",
    "    # ax.plot([12], [12], \"kx\")\n",
    "\n",
    "    fig.tight_layout()\n",
    "\n",
    "    def update(frame):\n",
    "        m.set_data(visibilities[walk[frame]].T[1:,1:])\n",
    "        return m,\n",
    "\n",
    "    animation = FuncAnimation(fig, update, frames=len(walk))\n",
    "    animation.save(\"walk.mp4\", fps=20, dpi=300)\n",
    "\n",
    "plot_agent_walk()"
   ],
   "metadata": {
    "collapsed": false,
    "pycharm": {
     "name": "#%%\n"
    }
   }
  }
 ],
 "metadata": {
  "kernelspec": {
   "display_name": "Python 3",
   "language": "python",
   "name": "python3"
  },
  "language_info": {
   "codemirror_mode": {
    "name": "ipython",
    "version": 2
   },
   "file_extension": ".py",
   "mimetype": "text/x-python",
   "name": "python",
   "nbconvert_exporter": "python",
   "pygments_lexer": "ipython2",
   "version": "2.7.6"
  }
 },
 "nbformat": 4,
 "nbformat_minor": 0
}