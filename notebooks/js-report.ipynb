{
 "cells": [
  {
   "cell_type": "code",
   "execution_count": null,
   "metadata": {
    "collapsed": true
   },
   "outputs": [],
   "source": [
    "from typing import Tuple\n",
    "\n",
    "import matplotlib.pyplot as plt\n",
    "import numpy as np\n",
    "from matplotlib.colors import ListedColormap\n",
    "\n",
    "from simulation.loader import load_environment, TileType\n"
   ]
  },
  {
   "cell_type": "code",
   "execution_count": null,
   "outputs": [],
   "source": [
    "def plot_line_of_sight(environment: np.ndarray, mid_pos: Tuple[float, float]) -> Tuple[plt.Figure, plt.Axes]:\n",
    "    mid_pos = np.array(mid_pos)\n",
    "    visibility = np.zeros_like(environment)\n",
    "\n",
    "    n_r = 85\n",
    "    n_d = 3 * 6\n",
    "    x, y = mid_pos\n",
    "    for r in np.linspace(0, 2 * np.pi, n_r, endpoint=False):\n",
    "        for d in np.linspace(0, 3 * 4 - 1 / 4, n_d):\n",
    "            dx, dy = np.sin(r) * d, np.cos(r) * d\n",
    "            if environment[int(x + dx + 0.5), int(y + dy + 0.5)] == TileType.WALL:\n",
    "                break\n",
    "            visibility[int(x + dx + 0.5), int(y + dy + 0.5)] = 1\n",
    "\n",
    "\n",
    "    im = np.zeros_like(environment)\n",
    "    im[environment == TileType.WALL] = 1\n",
    "    im[visibility == 1] = 2\n",
    "\n",
    "\n",
    "    cmap = ListedColormap([\n",
    "        [0.5, 0.5, 0.5, 1],\n",
    "        [0.3, 0.3, 0.35, 1],\n",
    "        [1, 1, 1, 1],\n",
    "    ])\n",
    "\n",
    "    fig, ax = plt.subplots(figsize=(4, 4))\n",
    "    ax.axis(\"off\")\n",
    "    ax.set_aspect(\"equal\")\n",
    "    ax.imshow(im.T, cmap=cmap)\n",
    "    ax.plot(*mid_pos, \"ko\")\n",
    "\n",
    "    for r in np.linspace(0, 2 * np.pi, n_r, endpoint=False):\n",
    "        ray_pos = []\n",
    "        v = True\n",
    "        for d in np.linspace(0, 3 * 4 - 1 / 4, n_d):\n",
    "            dx, dy = np.sin(r) * d, np.cos(r) * d\n",
    "            if environment[int(x + dx + 0.5), int(y + dy + 0.5)] == TileType.WALL:\n",
    "                v = False\n",
    "            ray_pos.append((x + dx, y + dy, v))\n",
    "        xs, ys, vis = map(np.array, zip(*ray_pos))\n",
    "\n",
    "        # Rays\n",
    "        plt.plot(xs[vis], ys[vis], \".-\", color=\"darkgreen\", alpha=0.2)\n",
    "\n",
    "        # Last point\n",
    "        v_idx, = np.where(vis == True)\n",
    "        v_last = v_idx[-1]\n",
    "        color = \"red\" if v_last != xs.shape[0] - 1 else \"blue\"\n",
    "        plt.plot(xs[v_last], ys[v_last], \".-\", color=color)\n",
    "\n",
    "    fig.tight_layout()\n",
    "    return fig, ax\n",
    "\n",
    "\n",
    "environment = load_environment(\"../data/chalmers_karresturang_normal.txt\", 3)\n",
    "environment = environment[-26:, 65:65 + 26]\n",
    "plot_line_of_sight(environment, (12.5, 12.5))\n",
    "plt.savefig(\"line-of-sight_report.pdf\", dpi=300)\n",
    "plt.show()"
   ],
   "metadata": {
    "collapsed": false,
    "pycharm": {
     "name": "#%%\n"
    }
   }
  },
  {
   "cell_type": "code",
   "execution_count": null,
   "outputs": [],
   "source": [
    "def plot_risk_of_infection_model() -> Tuple[plt.Figure, plt.Axes]:\n",
    "    x = np.linspace(0, 5.5)\n",
    "    risk = 1 - x/4\n",
    "    risk[risk <= 0] = 0\n",
    "\n",
    "    fig, ax = plt.subplots(figsize=(7 * 2 / 3, 2))\n",
    "\n",
    "    ax.set_xlim((-0.5, 5.5))\n",
    "    ax.set_yticks([])\n",
    "    ax.set_xlabel(\"Distance from infected person [m]\"); ax.set_ylabel(\"Risk of infection\")\n",
    "    ax.set_aspect(\"equal\")\n",
    "\n",
    "    ax.axvline(0, ls=\"--\", c=\"k\")\n",
    "    ax.axhline(0, ls=\"-\", c=\"k\")\n",
    "    ax.plot(x, 2 * risk, \"r-\")\n",
    "\n",
    "    fig.tight_layout()\n",
    "    return fig, ax\n",
    "\n",
    "plot_risk_of_infection_model()\n",
    "plt.savefig(\"risk-distance_report.pdf\", dpi=300)\n",
    "plt.show()"
   ],
   "metadata": {
    "collapsed": false,
    "pycharm": {
     "name": "#%%\n"
    }
   }
  }
 ],
 "metadata": {
  "kernelspec": {
   "display_name": "Python 3",
   "language": "python",
   "name": "python3"
  },
  "language_info": {
   "codemirror_mode": {
    "name": "ipython",
    "version": 2
   },
   "file_extension": ".py",
   "mimetype": "text/x-python",
   "name": "python",
   "nbconvert_exporter": "python",
   "pygments_lexer": "ipython2",
   "version": "2.7.6"
  }
 },
 "nbformat": 4,
 "nbformat_minor": 0
}