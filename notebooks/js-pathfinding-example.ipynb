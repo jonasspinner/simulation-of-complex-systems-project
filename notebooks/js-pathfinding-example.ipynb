{
 "cells": [
  {
   "cell_type": "code",
   "execution_count": null,
   "metadata": {
    "collapsed": true
   },
   "outputs": [],
   "source": [
    "from typing import List, TypeVar\n",
    "\n",
    "import numpy as np\n",
    "from pathfinding.core.diagonal_movement import DiagonalMovement\n",
    "from pathfinding.core.grid import Grid\n",
    "from pathfinding.finder.a_star import AStarFinder\n",
    "\n",
    "from simulation.loader import load_environment, TileType\n",
    "from simulation.path import build_graph, find_path, plot_path, Pos"
   ]
  },
  {
   "cell_type": "code",
   "execution_count": null,
   "outputs": [],
   "source": [
    "env, *_ = load_environment(\"../data/test-map-1.txt\", 1)\n",
    "plot_path(env)"
   ],
   "metadata": {
    "collapsed": false,
    "pycharm": {
     "name": "#%%\n"
    }
   }
  },
  {
   "cell_type": "markdown",
   "source": [
    "## Pathlib"
   ],
   "metadata": {
    "collapsed": false,
    "pycharm": {
     "name": "#%% md\n"
    }
   }
  },
  {
   "cell_type": "code",
   "execution_count": null,
   "outputs": [],
   "source": [
    "def find_path_pathlib(environment: np.ndarray, start: Pos, end: Pos) -> List[Pos]:\n",
    "    # `grid` could be reused.\n",
    "    # The values of the matrix signify the walking cost and a cost of zero signifies unpassable tiles.\n",
    "    # Giving seats, entries and food a higher cost prevents agents from walking over seats.\n",
    "    matrix = np.ones_like(environment)\n",
    "    matrix[environment == TileType.WALL]  = 0\n",
    "    matrix[environment == TileType.SEAT]  = 10\n",
    "    matrix[environment == TileType.ENTRY] = 10\n",
    "    matrix[environment == TileType.FOOD]  = 10\n",
    "    grid = Grid(matrix=matrix.T)  # The coordinates for the numpy array and pathfinding are flipped.\n",
    "\n",
    "    start = grid.node(*start)\n",
    "    end = grid.node(*end)\n",
    "\n",
    "    finder = AStarFinder(diagonal_movement=DiagonalMovement.always)\n",
    "    path, runs = finder.find_path(start, end, grid)\n",
    "    return path"
   ],
   "metadata": {
    "collapsed": false,
    "pycharm": {
     "name": "#%%\n"
    }
   }
  },
  {
   "cell_type": "markdown",
   "source": [
    "## Networkx"
   ],
   "metadata": {
    "collapsed": false,
    "pycharm": {
     "name": "#%% md\n"
    }
   }
  },
  {
   "cell_type": "code",
   "execution_count": null,
   "outputs": [],
   "source": [
    "find_path_networkx = find_path"
   ],
   "metadata": {
    "collapsed": false,
    "pycharm": {
     "name": "#%%\n"
    }
   }
  },
  {
   "cell_type": "code",
   "execution_count": null,
   "outputs": [],
   "source": [
    "T = TypeVar(\"T\")\n",
    "def choose(options: List[T]) -> T:\n",
    "    return options[np.random.randint(len(options))]\n",
    "\n",
    "def select_tiles(environment: np.ndarray, tile_type: TileType) -> List[Pos]:\n",
    "    i, j = np.where(environment == tile_type)\n",
    "    # noinspection PyTypeChecker\n",
    "    return list(zip(i, j))"
   ],
   "metadata": {
    "collapsed": false,
    "pycharm": {
     "name": "#%%\n"
    }
   }
  },
  {
   "cell_type": "markdown",
   "source": [
    "# Pathfinding\n",
    "\n",
    "Agents walk from the entry to a seat, get food, walks to the seat again and then leave from an entry."
   ],
   "metadata": {
    "collapsed": false,
    "pycharm": {
     "name": "#%% md\n"
    }
   }
  },
  {
   "cell_type": "code",
   "execution_count": null,
   "outputs": [],
   "source": [
    "def simulate_agent(environment) -> None:\n",
    "    entries = select_tiles(environment, TileType.ENTRY)\n",
    "    seats   = select_tiles(environment, TileType.SEAT)\n",
    "    foods   = select_tiles(environment, TileType.FOOD)\n",
    "\n",
    "    # A random choice of waypoints.\n",
    "    seat = choose(seats)\n",
    "    waypoints = [choose(entries), seat, choose(foods), seat, choose(entries)]\n",
    "    graph = build_graph(environment)\n",
    "\n",
    "    for a, b in zip(waypoints, waypoints[1:]):\n",
    "        path = find_path(graph, a, b)\n",
    "        plot_path(environment, path)\n",
    "\n",
    "simulate_agent(env)"
   ],
   "metadata": {
    "collapsed": false,
    "pycharm": {
     "name": "#%%\n"
    }
   }
  }
 ],
 "metadata": {
  "kernelspec": {
   "display_name": "Python 3",
   "language": "python",
   "name": "python3"
  },
  "language_info": {
   "codemirror_mode": {
    "name": "ipython",
    "version": 2
   },
   "file_extension": ".py",
   "mimetype": "text/x-python",
   "name": "python",
   "nbconvert_exporter": "python",
   "pygments_lexer": "ipython2",
   "version": "2.7.6"
  }
 },
 "nbformat": 4,
 "nbformat_minor": 0
}