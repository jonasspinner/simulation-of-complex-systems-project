{
 "cells": [
  {
   "cell_type": "code",
   "execution_count": null,
   "metadata": {
    "collapsed": true
   },
   "outputs": [],
   "source": [
    "import numpy as np\n",
    "from pathfinding.core.diagonal_movement import DiagonalMovement\n",
    "from pathfinding.core.grid import Grid\n",
    "from pathfinding.finder.a_star import AStarFinder\n",
    "from matplotlib import pyplot as plt\n",
    "from matplotlib.colors import ListedColormap\n",
    "from typing import Tuple, Optional, List, TypeVar"
   ]
  },
  {
   "cell_type": "code",
   "execution_count": null,
   "outputs": [],
   "source": [
    "Tile = int\n",
    "Pos = Tuple[int, int]\n",
    "T = TypeVar(\"T\")\n",
    "\n",
    "WALL:  Tile = 0\n",
    "FLOOR: Tile = 1\n",
    "SEAT:  Tile = 2\n",
    "ENTRY: Tile = 3\n",
    "FOOD:  Tile = 4\n",
    "\n",
    "building_cmap = ListedColormap([\n",
    "    [0.5, 0.5, 0.5, 1],  # wall\n",
    "    [1, 1, 1, 1],  # floor\n",
    "    [1, 0, 0, 1],  # seat\n",
    "    [0, 1, 0, 1],  # entry\n",
    "    [0, 0, 1, 1]   # food\n",
    "])"
   ],
   "metadata": {
    "collapsed": false,
    "pycharm": {
     "name": "#%%\n"
    }
   }
  },
  {
   "cell_type": "code",
   "execution_count": null,
   "outputs": [],
   "source": [
    "def load_environment() -> np.ndarray:\n",
    "    return np.array([\n",
    "        [0, 0, 0, 0, 0, 0, 0, 0, 0, 0, 0, 0, 0, 0, 0, 0, 0, 0],\n",
    "        [0, 1, 2, 0, 2, 1, 1, 1, 2, 0, 2, 1, 1, 1, 1, 1, 1, 0],\n",
    "        [0, 1, 2, 0, 2, 1, 1, 1, 2, 0, 2, 1, 1, 1, 1, 1, 1, 0],\n",
    "        [0, 1, 1, 1, 1, 1, 1, 1, 2, 0, 2, 1, 1, 1, 1, 1, 1, 0],\n",
    "        [0, 1, 1, 1, 1, 1, 1, 1, 1, 1, 1, 1, 1, 1, 1, 1, 1, 0],\n",
    "        [3, 1, 1, 1, 1, 1, 1, 1, 1, 1, 1, 1, 1, 1, 1, 1, 4, 0],\n",
    "        [3, 1, 1, 1, 1, 1, 1, 1, 1, 1, 1, 1, 1, 1, 1, 1, 4, 0],\n",
    "        [0, 1, 1, 1, 1, 1, 1, 1, 1, 1, 1, 1, 1, 1, 1, 1, 1, 0],\n",
    "        [0, 1, 1, 1, 1, 1, 1, 1, 2, 0, 2, 1, 1, 1, 1, 1, 1, 0],\n",
    "        [0, 1, 2, 0, 2, 1, 1, 1, 2, 0, 2, 1, 1, 1, 1, 1, 1, 0],\n",
    "        [0, 1, 2, 0, 2, 1, 1, 1, 2, 0, 2, 1, 1, 1, 1, 1, 1, 0],\n",
    "        [0, 0, 0, 0, 0, 0, 0, 0, 0, 0, 0, 0, 0, 0, 0, 0, 0, 0]\n",
    "    ])\n",
    "\n",
    "plt.imshow(load_environment(), cmap=building_cmap)\n",
    "plt.show()"
   ],
   "metadata": {
    "collapsed": false,
    "pycharm": {
     "name": "#%%\n"
    }
   }
  },
  {
   "cell_type": "code",
   "execution_count": null,
   "outputs": [],
   "source": [
    "def find_path(environment: np.ndarray, start: Pos, end: Pos) -> List[Pos]:\n",
    "    # `grid` could be reused.\n",
    "    # The values of the matrix signify the walking cost and a cost of zero signifies unpassable tiles.\n",
    "    # Giving seats, entries and food a higher cost prevents agents from walking over seats.\n",
    "    matrix = np.ones_like(environment)\n",
    "    matrix[environment == WALL]  = 0\n",
    "    matrix[environment == SEAT]  = 10\n",
    "    matrix[environment == ENTRY] = 10\n",
    "    matrix[environment == FOOD]  = 10\n",
    "    grid = Grid(matrix=matrix.T)  # The coordinates for the numpy array and pathfinding are flipped.\n",
    "\n",
    "    start = grid.node(*start)\n",
    "    end = grid.node(*end)\n",
    "\n",
    "    finder = AStarFinder(diagonal_movement=DiagonalMovement.always)\n",
    "    path, runs = finder.find_path(start, end, grid)\n",
    "    return path\n",
    "\n",
    "def plot_path(environment: np.ndarray, path: Optional[List[Pos]] = None) -> None:\n",
    "    plt.imshow(environment, cmap=building_cmap)\n",
    "    if path is not None:\n",
    "        ys, xs = zip(*path)\n",
    "        plt.plot(xs, ys, \"k-\")\n",
    "    plt.show()\n",
    "\n",
    "def choose(options: List[T]) -> T:\n",
    "    return options[np.random.randint(len(options))]\n",
    "\n",
    "def select_tiles(environment: np.ndarray, tile_type: Tile) -> List[Tile]:\n",
    "    # noinspection PyTypeChecker\n",
    "    return list(zip(*np.where(environment == tile_type)))"
   ],
   "metadata": {
    "collapsed": false,
    "pycharm": {
     "name": "#%%\n"
    }
   }
  },
  {
   "cell_type": "markdown",
   "source": [
    "# Pathfinding\n",
    "\n",
    "Agents walk from the entry to a seat, get food, walks to the seat again and then leave from an entry."
   ],
   "metadata": {
    "collapsed": false,
    "pycharm": {
     "name": "#%% md\n"
    }
   }
  },
  {
   "cell_type": "code",
   "execution_count": null,
   "outputs": [],
   "source": [
    "def simulate_agent() -> None:\n",
    "    environment = load_environment()\n",
    "\n",
    "    entries = select_tiles(environment, ENTRY)\n",
    "    seats   = select_tiles(environment, SEAT)\n",
    "    foods   = select_tiles(environment, FOOD)\n",
    "\n",
    "    # A random choice of waypoints.\n",
    "    waypoints = [choose(entries), seat := choose(seats), choose(foods), seat, choose(entries)]\n",
    "\n",
    "    for i in range(len(waypoints) - 1):\n",
    "        path = find_path(environment, waypoints[i], waypoints[i+1])\n",
    "        plot_path(environment, path)\n",
    "\n",
    "simulate_agent()"
   ],
   "metadata": {
    "collapsed": false,
    "pycharm": {
     "name": "#%%\n"
    }
   }
  }
 ],
 "metadata": {
  "kernelspec": {
   "display_name": "Python 3",
   "language": "python",
   "name": "python3"
  },
  "language_info": {
   "codemirror_mode": {
    "name": "ipython",
    "version": 2
   },
   "file_extension": ".py",
   "mimetype": "text/x-python",
   "name": "python",
   "nbconvert_exporter": "python",
   "pygments_lexer": "ipython2",
   "version": "2.7.6"
  }
 },
 "nbformat": 4,
 "nbformat_minor": 0
}