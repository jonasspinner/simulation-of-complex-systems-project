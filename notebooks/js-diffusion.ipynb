{
 "cells": [
  {
   "cell_type": "code",
   "execution_count": null,
   "metadata": {
    "collapsed": true
   },
   "outputs": [],
   "source": [
    "import numpy as np\n",
    "from matplotlib import pyplot as plt\n",
    "from matplotlib.animation import FuncAnimation\n",
    "\n",
    "from simulation.loader import load_environment"
   ]
  },
  {
   "cell_type": "code",
   "execution_count": null,
   "outputs": [],
   "source": [
    "def update_density(density: np.ndarray, r: float = 0.5, e: float = 0.95):\n",
    "    \"\"\"\n",
    "    Parameters\n",
    "    ----------\n",
    "    density : np.ndarray\n",
    "    r : float, [0, 1]\n",
    "        Diffusion parameter. For a tile `r` parts remain on the tile and `(1-r)` parts evenly distribute on the\n",
    "        neighboring tiles.\n",
    "    e : float, [0, 1]\n",
    "        Runoff parameter. The density is multiplied by `e`.\n",
    "    \"\"\"\n",
    "    next_density = np.zeros_like(density, dtype=float)\n",
    "\n",
    "    next_density += r * density\n",
    "    next_density[1:,:] += (r / 4) * density[:-1,:]\n",
    "    next_density[:-1,:] += (r / 4) * density[1:,:]\n",
    "    next_density[:,1:] += (r / 4) * density[:,:-1]\n",
    "    next_density[:,:-1] += (r / 4) * density[:,1:]\n",
    "\n",
    "    return next_density * e"
   ],
   "metadata": {
    "collapsed": false,
    "pycharm": {
     "name": "#%%\n"
    }
   }
  },
  {
   "cell_type": "code",
   "execution_count": null,
   "outputs": [],
   "source": [
    "env, *_ = load_environment(\"../data/test-map-1.txt\", 1)\n",
    "density = np.zeros_like(env)\n",
    "\n",
    "density[20, 30] = 1\n",
    "density[50, 20] = 1\n",
    "density[10, 10] = 1\n",
    "density[30, 0] = 1\n",
    "\n",
    "fig, ax = plt.subplots()\n",
    "particle_layer = ax.imshow(density.T)\n",
    "\n",
    "\n",
    "def update(frame):\n",
    "    global density\n",
    "    density = update_density(density)\n",
    "\n",
    "    pos1 = (20 + frame, 30 - frame)\n",
    "    pos2 = (50 - frame, 20)\n",
    "    density[pos1] += 1\n",
    "    density[pos2] += 1\n",
    "    density[10, 10] += 1\n",
    "    density[30, 0] += 1\n",
    "\n",
    "    particle_layer.set_data(density.T)\n",
    "    return particle_layer,\n",
    "\n",
    "animation = FuncAnimation(fig, update, frames=20)\n",
    "animation.save(\"diffusion.mp4\", fps=10, dpi=300)\n"
   ],
   "metadata": {
    "collapsed": false,
    "pycharm": {
     "name": "#%%\n"
    }
   }
  }
 ],
 "metadata": {
  "kernelspec": {
   "display_name": "Python 3",
   "language": "python",
   "name": "python3"
  },
  "language_info": {
   "codemirror_mode": {
    "name": "ipython",
    "version": 2
   },
   "file_extension": ".py",
   "mimetype": "text/x-python",
   "name": "python",
   "nbconvert_exporter": "python",
   "pygments_lexer": "ipython2",
   "version": "2.7.6"
  }
 },
 "nbformat": 4,
 "nbformat_minor": 0
}