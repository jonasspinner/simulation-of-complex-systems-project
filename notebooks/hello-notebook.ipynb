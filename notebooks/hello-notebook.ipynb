{
 "cells": [
  {
   "cell_type": "markdown",
   "source": [
    "# Hello Notebook\n",
    "\n",
    "This is an example notebook. It can be opened by running `jupyter notebook` and navigating to this file."
   ],
   "metadata": {
    "collapsed": false
   }
  },
  {
   "cell_type": "code",
   "execution_count": null,
   "metadata": {},
   "outputs": [],
   "source": [
    "from core import print_hi"
   ]
  },
  {
   "cell_type": "code",
   "execution_count": null,
   "outputs": [],
   "source": [
    "print_hi(\"Jupyter notebook\")"
   ],
   "metadata": {
    "collapsed": false,
    "pycharm": {
     "name": "#%%\n"
    }
   }
  },
  {
   "cell_type": "markdown",
   "source": [
    "This is an example of importing simulation code, executing it and plotting it in a notebook. The simulation takes 245\n",
    "iterations and about 3 minutes."
   ],
   "metadata": {
    "collapsed": false,
    "pycharm": {
     "name": "#%% md\n"
    }
   }
  },
  {
   "cell_type": "code",
   "execution_count": null,
   "outputs": [],
   "source": [
    "from core import run_mesa_example, plot_mesa_example\n",
    "import matplotlib.pyplot as plt\n",
    "\n",
    "run_data = run_mesa_example()\n",
    "\n",
    "fig, ax = plt.subplots()\n",
    "plot_mesa_example(run_data, ax)\n",
    "\n",
    "plt.show()"
   ],
   "metadata": {
    "collapsed": false,
    "pycharm": {
     "name": "#%%\n"
    }
   }
  }
 ],
 "metadata": {
  "kernelspec": {
   "display_name": "Python 3",
   "language": "python",
   "name": "python3"
  },
  "language_info": {
   "codemirror_mode": {
    "name": "ipython",
    "version": 3
   },
   "file_extension": ".py",
   "mimetype": "text/x-python",
   "name": "python",
   "nbconvert_exporter": "python",
   "pygments_lexer": "ipython3",
   "version": "3.8.5"
  }
 },
 "nbformat": 4,
 "nbformat_minor": 4
}